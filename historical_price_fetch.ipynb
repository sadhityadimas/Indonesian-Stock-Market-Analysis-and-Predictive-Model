{
 "cells": [
  {
   "cell_type": "code",
   "execution_count": 44,
   "id": "343cb2fa",
   "metadata": {},
   "outputs": [],
   "source": [
    "import pandas_datareader as pdr\n",
    "import pandas as pd\n",
    "from os import listdir\n",
    "from os.path import isfile, join\n",
    "from random import randint\n",
    "from time import sleep\n",
    "from numpy import random\n",
    "from datetime import date, timedelta\n",
    "import warnings\n",
    "warnings.filterwarnings(\"ignore\")"
   ]
  },
  {
   "cell_type": "markdown",
   "id": "0afe2ca9",
   "metadata": {},
   "source": [
    "# Get IDX stock List"
   ]
  },
  {
   "cell_type": "code",
   "execution_count": 45,
   "id": "66907fcb",
   "metadata": {},
   "outputs": [
    {
     "data": {
      "text/html": [
       "<div>\n",
       "<style scoped>\n",
       "    .dataframe tbody tr th:only-of-type {\n",
       "        vertical-align: middle;\n",
       "    }\n",
       "\n",
       "    .dataframe tbody tr th {\n",
       "        vertical-align: top;\n",
       "    }\n",
       "\n",
       "    .dataframe thead th {\n",
       "        text-align: right;\n",
       "    }\n",
       "</style>\n",
       "<table border=\"1\" class=\"dataframe\">\n",
       "  <thead>\n",
       "    <tr style=\"text-align: right;\">\n",
       "      <th></th>\n",
       "      <th>Ticker_Symbols</th>\n",
       "      <th>Nama</th>\n",
       "      <th>Date</th>\n",
       "      <th>Saham</th>\n",
       "      <th>Papan Pencatatan</th>\n",
       "    </tr>\n",
       "    <tr>\n",
       "      <th>No</th>\n",
       "      <th></th>\n",
       "      <th></th>\n",
       "      <th></th>\n",
       "      <th></th>\n",
       "      <th></th>\n",
       "    </tr>\n",
       "  </thead>\n",
       "  <tbody>\n",
       "    <tr>\n",
       "      <th>1</th>\n",
       "      <td>AALI</td>\n",
       "      <td>Astra Agro Lestari Tbk.</td>\n",
       "      <td>1997-12-09</td>\n",
       "      <td>1.924.688.333</td>\n",
       "      <td>Utama</td>\n",
       "    </tr>\n",
       "    <tr>\n",
       "      <th>2</th>\n",
       "      <td>ABBA</td>\n",
       "      <td>Mahaka Media Tbk.</td>\n",
       "      <td>2002-04-03</td>\n",
       "      <td>2.755.125.000</td>\n",
       "      <td>Pengembangan</td>\n",
       "    </tr>\n",
       "    <tr>\n",
       "      <th>3</th>\n",
       "      <td>ABDA</td>\n",
       "      <td>Asuransi Bina Dana Arta Tbk.</td>\n",
       "      <td>1989-07-06</td>\n",
       "      <td>620.806.680</td>\n",
       "      <td>Pengembangan</td>\n",
       "    </tr>\n",
       "    <tr>\n",
       "      <th>4</th>\n",
       "      <td>ABMM</td>\n",
       "      <td>ABM Investama Tbk.</td>\n",
       "      <td>2011-12-06</td>\n",
       "      <td>2.753.165.000</td>\n",
       "      <td>Utama</td>\n",
       "    </tr>\n",
       "    <tr>\n",
       "      <th>5</th>\n",
       "      <td>ACES</td>\n",
       "      <td>Ace Hardware Indonesia Tbk.</td>\n",
       "      <td>2007-11-06</td>\n",
       "      <td>17.150.000.000</td>\n",
       "      <td>Utama</td>\n",
       "    </tr>\n",
       "    <tr>\n",
       "      <th>...</th>\n",
       "      <td>...</td>\n",
       "      <td>...</td>\n",
       "      <td>...</td>\n",
       "      <td>...</td>\n",
       "      <td>...</td>\n",
       "    </tr>\n",
       "    <tr>\n",
       "      <th>696</th>\n",
       "      <td>YPAS</td>\n",
       "      <td>Yanaprima Hastapersada Tbk</td>\n",
       "      <td>2008-03-05</td>\n",
       "      <td>668.000.089</td>\n",
       "      <td>Pengembangan</td>\n",
       "    </tr>\n",
       "    <tr>\n",
       "      <th>697</th>\n",
       "      <td>YULE</td>\n",
       "      <td>Yulie Sekuritas Indonesia Tbk.</td>\n",
       "      <td>2004-12-10</td>\n",
       "      <td>1.785.000.000</td>\n",
       "      <td>Pengembangan</td>\n",
       "    </tr>\n",
       "    <tr>\n",
       "      <th>698</th>\n",
       "      <td>ZBRA</td>\n",
       "      <td>Zebra Nusantara Tbk</td>\n",
       "      <td>1991-08-01</td>\n",
       "      <td>856.133.009</td>\n",
       "      <td>Pengembangan</td>\n",
       "    </tr>\n",
       "    <tr>\n",
       "      <th>699</th>\n",
       "      <td>ZINC</td>\n",
       "      <td>Kapuas Prima Coal Tbk.</td>\n",
       "      <td>2017-10-16</td>\n",
       "      <td>25.250.000.000</td>\n",
       "      <td>Pengembangan</td>\n",
       "    </tr>\n",
       "    <tr>\n",
       "      <th>700</th>\n",
       "      <td>ZONE</td>\n",
       "      <td>Mega Perintis Tbk.</td>\n",
       "      <td>2018-12-12</td>\n",
       "      <td>870.171.478</td>\n",
       "      <td>Pengembangan</td>\n",
       "    </tr>\n",
       "  </tbody>\n",
       "</table>\n",
       "<p>700 rows × 5 columns</p>\n",
       "</div>"
      ],
      "text/plain": [
       "    Ticker_Symbols                            Nama        Date  \\\n",
       "No                                                               \n",
       "1             AALI         Astra Agro Lestari Tbk.  1997-12-09   \n",
       "2             ABBA               Mahaka Media Tbk.  2002-04-03   \n",
       "3             ABDA    Asuransi Bina Dana Arta Tbk.  1989-07-06   \n",
       "4             ABMM              ABM Investama Tbk.  2011-12-06   \n",
       "5             ACES     Ace Hardware Indonesia Tbk.  2007-11-06   \n",
       "..             ...                             ...         ...   \n",
       "696           YPAS      Yanaprima Hastapersada Tbk  2008-03-05   \n",
       "697           YULE  Yulie Sekuritas Indonesia Tbk.  2004-12-10   \n",
       "698           ZBRA             Zebra Nusantara Tbk  1991-08-01   \n",
       "699           ZINC          Kapuas Prima Coal Tbk.  2017-10-16   \n",
       "700           ZONE              Mega Perintis Tbk.  2018-12-12   \n",
       "\n",
       "              Saham Papan Pencatatan  \n",
       "No                                    \n",
       "1     1.924.688.333            Utama  \n",
       "2     2.755.125.000     Pengembangan  \n",
       "3       620.806.680     Pengembangan  \n",
       "4     2.753.165.000            Utama  \n",
       "5    17.150.000.000            Utama  \n",
       "..              ...              ...  \n",
       "696     668.000.089     Pengembangan  \n",
       "697   1.785.000.000     Pengembangan  \n",
       "698     856.133.009     Pengembangan  \n",
       "699  25.250.000.000     Pengembangan  \n",
       "700     870.171.478     Pengembangan  \n",
       "\n",
       "[700 rows x 5 columns]"
      ]
     },
     "execution_count": 45,
     "metadata": {},
     "output_type": "execute_result"
    }
   ],
   "source": [
    "idx_stock_lists = pd.read_csv('idx_stock_lists_correct_date.csv', index_col='No')\n",
    "idx_stock_lists.rename(columns={'Kode/Nama Perusahaan':'Ticker_Symbols'}, inplace=True)\n",
    "idx_stock_lists.rename(columns={'Tanggal Pencatatan':'Date'}, inplace=True)\n",
    "idx_stock_lists\n",
    "#preview of 700 stock in IDX\n",
    "#my database dont include all of this, only stocks that has record from 2016"
   ]
  },
  {
   "cell_type": "markdown",
   "id": "3efdf985",
   "metadata": {},
   "source": [
    "## Clean idx list dataframe"
   ]
  },
  {
   "cell_type": "code",
   "execution_count": 46,
   "id": "67b69b73",
   "metadata": {},
   "outputs": [
    {
     "data": {
      "text/plain": [
       "Ticker_Symbols      object\n",
       "Nama                object\n",
       "Date                object\n",
       "Saham               object\n",
       "Papan Pencatatan    object\n",
       "dtype: object"
      ]
     },
     "execution_count": 46,
     "metadata": {},
     "output_type": "execute_result"
    }
   ],
   "source": [
    "## Lets clean the dataframe a little bit\n",
    "idx_stock_lists.dtypes #dtypes\n",
    "#need to change tanggal pencatatan into pd datetime\n",
    "#nned to change saham into int"
   ]
  },
  {
   "cell_type": "code",
   "execution_count": 47,
   "id": "d73c18c9",
   "metadata": {},
   "outputs": [
    {
     "data": {
      "text/html": [
       "<div>\n",
       "<style scoped>\n",
       "    .dataframe tbody tr th:only-of-type {\n",
       "        vertical-align: middle;\n",
       "    }\n",
       "\n",
       "    .dataframe tbody tr th {\n",
       "        vertical-align: top;\n",
       "    }\n",
       "\n",
       "    .dataframe thead th {\n",
       "        text-align: right;\n",
       "    }\n",
       "</style>\n",
       "<table border=\"1\" class=\"dataframe\">\n",
       "  <thead>\n",
       "    <tr style=\"text-align: right;\">\n",
       "      <th></th>\n",
       "      <th>Ticker_Symbols</th>\n",
       "      <th>Nama</th>\n",
       "      <th>Date</th>\n",
       "      <th>Saham</th>\n",
       "      <th>Papan Pencatatan</th>\n",
       "    </tr>\n",
       "    <tr>\n",
       "      <th>No</th>\n",
       "      <th></th>\n",
       "      <th></th>\n",
       "      <th></th>\n",
       "      <th></th>\n",
       "      <th></th>\n",
       "    </tr>\n",
       "  </thead>\n",
       "  <tbody>\n",
       "    <tr>\n",
       "      <th>1</th>\n",
       "      <td>AALI</td>\n",
       "      <td>Astra Agro Lestari Tbk.</td>\n",
       "      <td>1997-12-09</td>\n",
       "      <td>1924688333</td>\n",
       "      <td>Utama</td>\n",
       "    </tr>\n",
       "    <tr>\n",
       "      <th>2</th>\n",
       "      <td>ABBA</td>\n",
       "      <td>Mahaka Media Tbk.</td>\n",
       "      <td>2002-04-03</td>\n",
       "      <td>2755125000</td>\n",
       "      <td>Pengembangan</td>\n",
       "    </tr>\n",
       "    <tr>\n",
       "      <th>3</th>\n",
       "      <td>ABDA</td>\n",
       "      <td>Asuransi Bina Dana Arta Tbk.</td>\n",
       "      <td>1989-07-06</td>\n",
       "      <td>620806680</td>\n",
       "      <td>Pengembangan</td>\n",
       "    </tr>\n",
       "    <tr>\n",
       "      <th>4</th>\n",
       "      <td>ABMM</td>\n",
       "      <td>ABM Investama Tbk.</td>\n",
       "      <td>2011-12-06</td>\n",
       "      <td>2753165000</td>\n",
       "      <td>Utama</td>\n",
       "    </tr>\n",
       "    <tr>\n",
       "      <th>5</th>\n",
       "      <td>ACES</td>\n",
       "      <td>Ace Hardware Indonesia Tbk.</td>\n",
       "      <td>2007-11-06</td>\n",
       "      <td>17150000000</td>\n",
       "      <td>Utama</td>\n",
       "    </tr>\n",
       "  </tbody>\n",
       "</table>\n",
       "</div>"
      ],
      "text/plain": [
       "   Ticker_Symbols                          Nama       Date        Saham  \\\n",
       "No                                                                        \n",
       "1            AALI       Astra Agro Lestari Tbk. 1997-12-09   1924688333   \n",
       "2            ABBA             Mahaka Media Tbk. 2002-04-03   2755125000   \n",
       "3            ABDA  Asuransi Bina Dana Arta Tbk. 1989-07-06    620806680   \n",
       "4            ABMM            ABM Investama Tbk. 2011-12-06   2753165000   \n",
       "5            ACES   Ace Hardware Indonesia Tbk. 2007-11-06  17150000000   \n",
       "\n",
       "   Papan Pencatatan  \n",
       "No                   \n",
       "1             Utama  \n",
       "2      Pengembangan  \n",
       "3      Pengembangan  \n",
       "4             Utama  \n",
       "5             Utama  "
      ]
     },
     "execution_count": 47,
     "metadata": {},
     "output_type": "execute_result"
    }
   ],
   "source": [
    "idx_stock_lists['Date'] = pd.to_datetime(idx_stock_lists['Date'])\n",
    "idx_stock_lists['Saham'] = idx_stock_lists['Saham'].str.replace('.','')\n",
    "idx_stock_lists['Saham'] = pd.to_numeric(idx_stock_lists['Saham'])\n",
    "idx_stock_lists.head()#done"
   ]
  },
  {
   "cell_type": "markdown",
   "id": "895e0a82",
   "metadata": {},
   "source": [
    "# Build Initial Database for every stock's historical price\n"
   ]
  },
  {
   "cell_type": "code",
   "execution_count": 48,
   "id": "c1df3321",
   "metadata": {},
   "outputs": [],
   "source": [
    "#get stocks list\n",
    "stock_list = list(idx_stock_lists['Ticker_Symbols'])"
   ]
  },
  {
   "cell_type": "code",
   "execution_count": 49,
   "id": "e874021d",
   "metadata": {},
   "outputs": [],
   "source": [
    "#get start date\n",
    "#lets take from the earliest date\n",
    "#pdr is smart, its only taking available dates for stocks\n",
    "#so it doesnt matter the dates starts, it will takes the initial dates\n",
    "start_date = '1980-01-01'\n",
    "\n",
    "#get end date\n",
    "#yesterday's date\n",
    "yesterday = date.today() - timedelta(days=1)\n",
    "\n",
    "error_no_fetched = [] # list of unable to  fetch stock's data, possible delisting like GREN\n",
    "#we do this for future proof in case new stocks get into delisting list\n",
    "\n",
    "for i in range(len(stock_list)):\n",
    "    sleeptime = random.uniform(1, 3) #add sleeptime between 1 to 3 second so yahoo doesnt get suspicious\n",
    "    sleep(sleeptime)\n",
    "    try:\n",
    "        temp_df = pdr.data.get_data_yahoo(stock_list[i]+'.JK', start_date, yesterday).reset_index() #yyyy-mm-dd \n",
    "        #the code above is taking specified stocks' data from its initial date to yesterday's date\n",
    "        temp_df.to_csv('database\\\\' + stock_list[i] + '.csv', index=False) #save to temp database\n",
    "    except:\n",
    "        error_no_fetched.append(stock_list[i])\n",
    "        continue\n",
    "    \n"
   ]
  },
  {
   "cell_type": "code",
   "execution_count": 50,
   "id": "22cbe721",
   "metadata": {
    "scrolled": true
   },
   "outputs": [
    {
     "data": {
      "text/html": [
       "<div>\n",
       "<style scoped>\n",
       "    .dataframe tbody tr th:only-of-type {\n",
       "        vertical-align: middle;\n",
       "    }\n",
       "\n",
       "    .dataframe tbody tr th {\n",
       "        vertical-align: top;\n",
       "    }\n",
       "\n",
       "    .dataframe thead th {\n",
       "        text-align: right;\n",
       "    }\n",
       "</style>\n",
       "<table border=\"1\" class=\"dataframe\">\n",
       "  <thead>\n",
       "    <tr style=\"text-align: right;\">\n",
       "      <th></th>\n",
       "      <th>Date</th>\n",
       "      <th>High</th>\n",
       "      <th>Low</th>\n",
       "      <th>Open</th>\n",
       "      <th>Close</th>\n",
       "      <th>Volume</th>\n",
       "      <th>Adj Close</th>\n",
       "    </tr>\n",
       "  </thead>\n",
       "  <tbody>\n",
       "    <tr>\n",
       "      <th>0</th>\n",
       "      <td>2002-09-03</td>\n",
       "      <td>190.0</td>\n",
       "      <td>175.0</td>\n",
       "      <td>190.0</td>\n",
       "      <td>175.0</td>\n",
       "      <td>2684000.0</td>\n",
       "      <td>157.212784</td>\n",
       "    </tr>\n",
       "    <tr>\n",
       "      <th>1</th>\n",
       "      <td>2002-09-04</td>\n",
       "      <td>175.0</td>\n",
       "      <td>170.0</td>\n",
       "      <td>170.0</td>\n",
       "      <td>170.0</td>\n",
       "      <td>1231000.0</td>\n",
       "      <td>152.721008</td>\n",
       "    </tr>\n",
       "    <tr>\n",
       "      <th>2</th>\n",
       "      <td>2002-09-05</td>\n",
       "      <td>180.0</td>\n",
       "      <td>165.0</td>\n",
       "      <td>175.0</td>\n",
       "      <td>165.0</td>\n",
       "      <td>2637000.0</td>\n",
       "      <td>148.229187</td>\n",
       "    </tr>\n",
       "    <tr>\n",
       "      <th>3</th>\n",
       "      <td>2002-09-06</td>\n",
       "      <td>170.0</td>\n",
       "      <td>170.0</td>\n",
       "      <td>170.0</td>\n",
       "      <td>170.0</td>\n",
       "      <td>1020000.0</td>\n",
       "      <td>152.721008</td>\n",
       "    </tr>\n",
       "    <tr>\n",
       "      <th>4</th>\n",
       "      <td>2002-09-09</td>\n",
       "      <td>170.0</td>\n",
       "      <td>170.0</td>\n",
       "      <td>170.0</td>\n",
       "      <td>170.0</td>\n",
       "      <td>137500.0</td>\n",
       "      <td>152.721008</td>\n",
       "    </tr>\n",
       "    <tr>\n",
       "      <th>...</th>\n",
       "      <td>...</td>\n",
       "      <td>...</td>\n",
       "      <td>...</td>\n",
       "      <td>...</td>\n",
       "      <td>...</td>\n",
       "      <td>...</td>\n",
       "      <td>...</td>\n",
       "    </tr>\n",
       "    <tr>\n",
       "      <th>4688</th>\n",
       "      <td>2021-06-21</td>\n",
       "      <td>875.0</td>\n",
       "      <td>825.0</td>\n",
       "      <td>875.0</td>\n",
       "      <td>860.0</td>\n",
       "      <td>5837000.0</td>\n",
       "      <td>860.000000</td>\n",
       "    </tr>\n",
       "    <tr>\n",
       "      <th>4689</th>\n",
       "      <td>2021-06-22</td>\n",
       "      <td>860.0</td>\n",
       "      <td>835.0</td>\n",
       "      <td>860.0</td>\n",
       "      <td>835.0</td>\n",
       "      <td>3409200.0</td>\n",
       "      <td>835.000000</td>\n",
       "    </tr>\n",
       "    <tr>\n",
       "      <th>4690</th>\n",
       "      <td>2021-06-23</td>\n",
       "      <td>840.0</td>\n",
       "      <td>820.0</td>\n",
       "      <td>840.0</td>\n",
       "      <td>820.0</td>\n",
       "      <td>3038900.0</td>\n",
       "      <td>820.000000</td>\n",
       "    </tr>\n",
       "    <tr>\n",
       "      <th>4691</th>\n",
       "      <td>2021-06-24</td>\n",
       "      <td>830.0</td>\n",
       "      <td>815.0</td>\n",
       "      <td>820.0</td>\n",
       "      <td>820.0</td>\n",
       "      <td>2215500.0</td>\n",
       "      <td>820.000000</td>\n",
       "    </tr>\n",
       "    <tr>\n",
       "      <th>4692</th>\n",
       "      <td>2021-06-25</td>\n",
       "      <td>820.0</td>\n",
       "      <td>810.0</td>\n",
       "      <td>815.0</td>\n",
       "      <td>815.0</td>\n",
       "      <td>1449800.0</td>\n",
       "      <td>815.000000</td>\n",
       "    </tr>\n",
       "  </tbody>\n",
       "</table>\n",
       "<p>4693 rows × 7 columns</p>\n",
       "</div>"
      ],
      "text/plain": [
       "            Date   High    Low   Open  Close     Volume   Adj Close\n",
       "0     2002-09-03  190.0  175.0  190.0  175.0  2684000.0  157.212784\n",
       "1     2002-09-04  175.0  170.0  170.0  170.0  1231000.0  152.721008\n",
       "2     2002-09-05  180.0  165.0  175.0  165.0  2637000.0  148.229187\n",
       "3     2002-09-06  170.0  170.0  170.0  170.0  1020000.0  152.721008\n",
       "4     2002-09-09  170.0  170.0  170.0  170.0   137500.0  152.721008\n",
       "...          ...    ...    ...    ...    ...        ...         ...\n",
       "4688  2021-06-21  875.0  825.0  875.0  860.0  5837000.0  860.000000\n",
       "4689  2021-06-22  860.0  835.0  860.0  835.0  3409200.0  835.000000\n",
       "4690  2021-06-23  840.0  820.0  840.0  820.0  3038900.0  820.000000\n",
       "4691  2021-06-24  830.0  815.0  820.0  820.0  2215500.0  820.000000\n",
       "4692  2021-06-25  820.0  810.0  815.0  815.0  1449800.0  815.000000\n",
       "\n",
       "[4693 rows x 7 columns]"
      ]
     },
     "execution_count": 50,
     "metadata": {},
     "output_type": "execute_result"
    }
   ],
   "source": [
    "#check\n",
    "pnbn = pd.read_csv('database//PNBN.csv')\n",
    "pnbn"
   ]
  },
  {
   "cell_type": "code",
   "execution_count": null,
   "id": "5af48290",
   "metadata": {},
   "outputs": [],
   "source": []
  },
  {
   "cell_type": "markdown",
   "id": "adb97af1",
   "metadata": {},
   "source": [
    "# Code Below to Update the database"
   ]
  },
  {
   "cell_type": "code",
   "execution_count": 52,
   "id": "0b1f187e",
   "metadata": {},
   "outputs": [
    {
     "data": {
      "text/plain": [
       "['AALI.csv', 'ABBA.csv', 'ABDA.csv', 'ABMM.csv', 'ACES.csv']"
      ]
     },
     "execution_count": 52,
     "metadata": {},
     "output_type": "execute_result"
    }
   ],
   "source": [
    "#taking every stocks dataframe's name in our database and put them in a list\n",
    "stocks_list_complete_name = [f for f in listdir('database') \n",
    "                             if isfile(join('database', f))]\n",
    "stocks_list_complete_name[:5]"
   ]
  },
  {
   "cell_type": "code",
   "execution_count": 53,
   "id": "907d5eff",
   "metadata": {},
   "outputs": [
    {
     "data": {
      "text/plain": [
       "['AALI', 'ABBA', 'ABDA', 'ABMM', 'ACES']"
      ]
     },
     "execution_count": 53,
     "metadata": {},
     "output_type": "execute_result"
    }
   ],
   "source": [
    "#separate the .csv part and taking their name only\n",
    "stock_list_name_only = []\n",
    "for i in stocks_list_complete_name:\n",
    "    stock_list_name_only.append(i.split('.')[0]) #take every string, split each string by dot and take the first value of the index\n",
    "stock_list_name_only[:5]"
   ]
  },
  {
   "cell_type": "code",
   "execution_count": 56,
   "id": "d089b689",
   "metadata": {},
   "outputs": [
    {
     "data": {
      "text/plain": [
       "'2021-06-25'"
      ]
     },
     "execution_count": 56,
     "metadata": {},
     "output_type": "execute_result"
    }
   ],
   "source": [
    "#taking the each stock's last date in our dataframe\n",
    "#put them in a dictionary\n",
    "last_date = {}\n",
    "for i in stock_list_name_only:\n",
    "    a = pd.read_csv('database\\\\'+ i+'.csv')\n",
    "    last_date[i] = list(a['Date'])[-1]\n",
    "#last_date['PNBN'] check"
   ]
  },
  {
   "cell_type": "markdown",
   "id": "daf13ed4",
   "metadata": {},
   "source": [
    "## Update from last date to yesterday's date"
   ]
  },
  {
   "cell_type": "code",
   "execution_count": null,
   "id": "299452f9",
   "metadata": {},
   "outputs": [],
   "source": [
    "#taking yesterday's date\n",
    "yesterday_date = date.today() - timedelta(days=1)\n",
    "corrected_format = yesterday_date.strftime(\"%Y-%m-%d\")\n",
    "corrected_format"
   ]
  },
  {
   "cell_type": "markdown",
   "id": "9838fd8c",
   "metadata": {},
   "source": [
    "## Get every stock's historical price from its last date to yesterday's date"
   ]
  },
  {
   "cell_type": "code",
   "execution_count": null,
   "id": "3dcb7dcc",
   "metadata": {},
   "outputs": [],
   "source": [
    "error_no_fetched = [] # list of unable to  fetch stock's data, possible delisting like GREN\n",
    "#we do this for future proof in case new stocks get into delisting list\n",
    "\n",
    "for i in stock_list_name_only:\n",
    "    sleeptime = random.uniform(1, 3) #add sleeptime between 1 to 3 second so yahoo doesnt get suspicious\n",
    "    sleep(sleeptime)\n",
    "    try:\n",
    "        temp_df = pdr.data.get_data_yahoo(i+'.JK', last_date[i], corrected_format).reset_index() #yyyy-mm-dd \n",
    "        #the code above is taking specified stocks' data from its last date to yesterday's date\n",
    "        temp_df.to_csv('tmp\\\\' + i + '.csv', index=False) #save to temp database\n",
    "    except:\n",
    "        error_no_fetched.append(i)\n",
    "        continue"
   ]
  },
  {
   "cell_type": "markdown",
   "id": "861e0c15",
   "metadata": {},
   "source": [
    "## Concat the original database with newest date "
   ]
  },
  {
   "cell_type": "code",
   "execution_count": null,
   "id": "3d393eec",
   "metadata": {},
   "outputs": [],
   "source": [
    "new_list_stock_list_name_only = [i for i in stock_list_name_only if i not in error_no_fetched] #pick out error no fetch from out stocks name\n",
    "\n",
    "for i in range(len(new_list_stock_list_name_only)):\n",
    "    a = pd.read_csv('database\\\\' + new_list_stock_list_name_only[i] +'.csv') #take each stock original data frame in the database\n",
    "    b = pd.read_csv('tmp\\\\' + new_list_stock_list_name_only[i] + '.csv')\n",
    "    c = pd.concat([a, b]) #concat the dataframe into a\n",
    "    c = c.drop_duplicates(subset='Date', keep='first') #experimental, to drop rows with same dates and keep first occurence\n",
    "    c.reset_index(drop=True, inplace=True) #reset the index after concat\n",
    "    c.to_csv('database\\\\' + new_list_stock_list_name_only[i] + '.csv', index=False) #save and at the sametime update our database\n",
    "#it works "
   ]
  },
  {
   "cell_type": "code",
   "execution_count": null,
   "id": "b6b2d3b9",
   "metadata": {},
   "outputs": [],
   "source": []
  },
  {
   "cell_type": "code",
   "execution_count": null,
   "id": "450fb7f5",
   "metadata": {},
   "outputs": [],
   "source": []
  }
 ],
 "metadata": {
  "kernelspec": {
   "display_name": "Python 3",
   "language": "python",
   "name": "python3"
  },
  "language_info": {
   "codemirror_mode": {
    "name": "ipython",
    "version": 3
   },
   "file_extension": ".py",
   "mimetype": "text/x-python",
   "name": "python",
   "nbconvert_exporter": "python",
   "pygments_lexer": "ipython3",
   "version": "3.8.10"
  }
 },
 "nbformat": 4,
 "nbformat_minor": 5
}
